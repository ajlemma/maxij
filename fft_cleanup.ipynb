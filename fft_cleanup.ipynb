{
 "cells": [
  {
   "cell_type": "code",
   "execution_count": 1,
   "metadata": {},
   "outputs": [],
   "source": [
    "import pandas as pd\n",
    "import numpy as np\n",
    "from maxijdefs import *\n",
    "\n",
    "import matplotlib\n",
    "%matplotlib inline\n",
    "import matplotlib.pyplot as plt\n",
    "from mpl_toolkits.axes_grid1 import ImageGrid"
   ]
  },
  {
   "cell_type": "code",
   "execution_count": 2,
   "metadata": {},
   "outputs": [],
   "source": [
    "def logbin(f,p,df):\n",
    "    #df = step size in log frequency\n",
    "    fx=np.zeros(len(f))\n",
    "    px=np.zeros(len(p))\n",
    "    fx[:]=f[:]\n",
    "    fx[0]=fx[1]\n",
    "    p0=p[0]\n",
    "    px[:]=p[:]\n",
    "    px[0]=0.\n",
    "\n",
    "    fl=np.log10(fx)\n",
    "    nel=len(f)\n",
    "\n",
    "    fmin=fl[1]\n",
    "    fmax=np.max(fl)\n",
    "\n",
    "    nf=np.round((fmax-fmin)/df).astype(int)\n",
    "    f2=np.arange(nf)*df+fmin\n",
    "    p2=np.zeros(nf)\n",
    "\n",
    "    for i in range(nf):\n",
    "        fa=10.**f2[i]\n",
    "        fb=10.**(f2[i]+df)\n",
    "        fm=(fa+fb)/2.0\n",
    "        dff=fm-fa\n",
    "        if len(f[np.abs(f-fm)<=dff])>0:\n",
    "            p2[i]=np.mean(px[np.abs(f-fm)<=dff])\n",
    "\n",
    "    return f2,p2"
   ]
  },
  {
   "cell_type": "code",
   "execution_count": 3,
   "metadata": {},
   "outputs": [],
   "source": [
    "def pds_chunk128(t,flx,t1,t2):\n",
    "    # takes time series - not lightcurve - time and flx\n",
    "    # extracts time from t1 to t2\n",
    "    # calculates power spectrum in 128s segments and returns\n",
    "    \n",
    "    t_span=t2-t1\n",
    "    n_chunk=np.round(t_span/128.0).astype(int)\n",
    "    \n",
    "    print t_span, n_chunk\n",
    "    \n",
    "    dt2=128.0/2.0 # half-width of chunk\n",
    "    \n",
    "    for i in range(n_chunk):\n",
    "        ty=t-((i*dt2*2)+dt2+t1)\n",
    "        y=flx[np.abs(ty)<=dt2]\n",
    "        if i==0:\n",
    "            flen=len(y)/2\n",
    "            print i, flen\n",
    "            p=np.zeros([n_chunk,flen])\n",
    "            f=np.arange(flen)/(dt2*2)\n",
    "        af=np.fft.fft(y)\n",
    "        p[i,:]=np.abs(af[:flen])**2\n",
    "        \n",
    "    ptot=np.sum(p,axis=0)\n",
    "    \n",
    "    return f,p,ptot\n"
   ]
  },
  {
   "cell_type": "code",
   "execution_count": 4,
   "metadata": {},
   "outputs": [],
   "source": [
    "def p_2_logp(f,p,df,n_avg):\n",
    "    # takes output of pds_chunk128-style program\n",
    "    # averages over n_avg pieces, and logbins the 2D array\n",
    "    \n",
    "    nt=p.shape[0] # number of power spectra\n",
    "    \n",
    "    for i in range(nt):\n",
    "        i1=i-n_avg/2\n",
    "        i2=i1+n_avg/2\n",
    "        if i1<0:\n",
    "            i1=0\n",
    "        if i2>(nt-1):\n",
    "            i2=nt-1\n",
    "        pmean=np.mean(p[i1:i2+1,:],axis=0)/(np.mean(p[i1:i2+1,0])**0.5)\n",
    "        dumf,dump=logbin(f,pmean,df)\n",
    "        if i==0:\n",
    "            nf=len(dump[dump>0])\n",
    "            p2=np.zeros([nt,nf])\n",
    "            f2=dumf[dump>0]\n",
    "        p2[i,:]=dump[dump>0]\n",
    "        \n",
    "    return f2,p2"
   ]
  },
  {
   "cell_type": "code",
   "execution_count": 6,
   "metadata": {},
   "outputs": [],
   "source": [
    "#read data\n",
    "path = './maxij_data_copies/'\n",
    "night = '2018-03-28'\n",
    "\n",
    "#read in data as pandas dataframe:\n",
    "data = pd.read_pickle(path+'data_'+night+'.pkl')\n",
    "# print data\n",
    "fID = data['fileID']"
   ]
  },
  {
   "cell_type": "code",
   "execution_count": 7,
   "metadata": {},
   "outputs": [],
   "source": [
    "data['maxij_flux'] = data['phot_maxij']\n",
    "data['tyc_flux'] = data['phot_tyc']\n",
    "data['ref_flux'] = data['phot_ref3']+data['phot_ref4']+data[\"phot_ref5\"]"
   ]
  },
  {
   "cell_type": "code",
   "execution_count": null,
   "metadata": {},
   "outputs": [],
   "source": [
    "data['clean_flux_bool'] = True\n",
    "data['localmed_tyc'] = np.nan\n",
    "data['localmed_maxij'] = np.nan\n",
    "data['localmed_ref'] = np.nan"
   ]
  }
 ],
 "metadata": {
  "kernelspec": {
   "display_name": "Python 2",
   "language": "python",
   "name": "python2"
  },
  "language_info": {
   "codemirror_mode": {
    "name": "ipython",
    "version": 2
   },
   "file_extension": ".py",
   "mimetype": "text/x-python",
   "name": "python",
   "nbconvert_exporter": "python",
   "pygments_lexer": "ipython2",
   "version": "2.7.14"
  }
 },
 "nbformat": 4,
 "nbformat_minor": 2
}
