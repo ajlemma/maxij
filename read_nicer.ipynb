{
 "cells": [
  {
   "cell_type": "code",
   "execution_count": 29,
   "metadata": {},
   "outputs": [],
   "source": [
    "import numpy as np\n",
    "from astropy.io import fits\n",
    "%matplotlib inline\n",
    "import matplotlib\n",
    "import matplotlib.pyplot as plt\n",
    "from astropy.io import fits\n",
    "# from maxijdefs import *\n",
    "import glob "
   ]
  },
  {
   "cell_type": "code",
   "execution_count": 3,
   "metadata": {},
   "outputs": [],
   "source": [
    "def write_to_fits(f_name, data):\n",
    "\n",
    "    fits.PrimaryHDU(data).writeto(f_name, overwrite=True)"
   ]
  },
  {
   "cell_type": "code",
   "execution_count": 4,
   "metadata": {},
   "outputs": [],
   "source": [
    "def get_filelist_nicer(pathnam, nicer_filt):\n",
    "    # returns the list of NICER maxij1820 .lc files in the directory pathname\n",
    "    # nicer_filt = phrase to filter among .lc files\n",
    "    from os import listdir\n",
    "    from os.path import isfile, join\n",
    "    \n",
    "    mypath=pathnam\n",
    "    onlyfiles = [f for f in listdir(mypath) if isfile(join(mypath, f))] # this is a list of all files in the directory\n",
    "    lc_files=list()\n",
    "    nicer_files=list()\n",
    "    for i in range(len(onlyfiles)):\n",
    "        if \".lc\" in onlyfiles[i]:\n",
    "            lc_files.append(onlyfiles[i]) # this is a list of all .lc files\n",
    "            \n",
    "    for i in range(len(lc_files)):\n",
    "        if nicer_filt in lc_files[i]:\n",
    "            nicer_files.append(lc_files[i]) # this is a list of all selected .lc files\n",
    "            \n",
    "    return nicer_files"
   ]
  },
  {
   "cell_type": "code",
   "execution_count": 5,
   "metadata": {},
   "outputs": [],
   "source": [
    "def logbin(f,p,df):\n",
    "    #df = step size in log frequency\n",
    "    fx=np.zeros(len(f))\n",
    "    px=np.zeros(len(p))\n",
    "    fx[:]=f[:]\n",
    "    fx[0]=fx[1]\n",
    "    p0=p[0]\n",
    "    px[:]=p[:]\n",
    "    px[0]=0.\n",
    "\n",
    "    fl=np.log10(fx)\n",
    "    nel=len(f)\n",
    "\n",
    "    fmin=fl[1]\n",
    "    fmax=np.max(fl)\n",
    "\n",
    "    nf=np.round((fmax-fmin)/df).astype(int)\n",
    "    f2=np.arange(nf)*df+fmin\n",
    "    p2=np.zeros(nf)\n",
    "\n",
    "    for i in range(nf):\n",
    "        fa=10.**f2[i]\n",
    "        fb=10.**(f2[i]+df)\n",
    "        fm=(fa+fb)/2.0\n",
    "        dff=fm-fa\n",
    "        if len(f[np.abs(f-fm)<=dff])>0:\n",
    "            p2[i]=np.mean(px[np.abs(f-fm)<=dff])\n",
    "\n",
    "    return f2,p2"
   ]
  },
  {
   "cell_type": "code",
   "execution_count": 6,
   "metadata": {},
   "outputs": [],
   "source": [
    "def rd_nicer_lc(pathnam, fnams):\n",
    "    \n",
    "    nfils=len(fnams)\n",
    "    xlist=list()\n",
    "    tlist=list()\n",
    "    \n",
    "    for i in range(nfils):\n",
    "        fnam=pathnam+fnams[i]\n",
    "    \n",
    "        fID=open(fnam,'r')\n",
    "    \n",
    "    \n",
    "        for j in range(16):\n",
    "            line=fID.readline() # skip first 10 lines\n",
    "        \n",
    "        while True:\n",
    "            line=fID.readline()\n",
    "            if not line: break\n",
    "            jnk=line.split()\n",
    "        \n",
    "            #print len(jnk)\n",
    "            if len(jnk)==14:\n",
    "                xlist.append(float(jnk[2]))\n",
    "                tlist.append(float(jnk[1]))\n",
    "            \n",
    "        fID.close()\n",
    "    \n",
    "    return np.array(tlist).astype(float),np.array(xlist).astype(float)\n"
   ]
  },
  {
   "cell_type": "code",
   "execution_count": 7,
   "metadata": {},
   "outputs": [],
   "source": [
    "def rd_nicer_lc34(pathnam, fnams):\n",
    "    # bands 3 and 4\n",
    "    \n",
    "    nfils=len(fnams)\n",
    "    xlist=list()\n",
    "    tlist=list()\n",
    "    \n",
    "    for i in range(nfils):\n",
    "        fnam=pathnam+fnams[i]\n",
    "    \n",
    "        fID=open(fnam,'r')\n",
    "    \n",
    "    \n",
    "        for j in range(16):\n",
    "            line=fID.readline() # skip first 10 lines\n",
    "        \n",
    "        while True:\n",
    "            line=fID.readline()\n",
    "            if not line: break\n",
    "            jnk=line.split()\n",
    "        \n",
    "            #print len(jnk)\n",
    "            if len(jnk)==14:\n",
    "                xlist.append(float(jnk[6])+float(jnk[7]))\n",
    "                tlist.append(float(jnk[1]))\n",
    "            \n",
    "        fID.close()\n",
    "        \n",
    "    return np.array(tlist).astype(float),np.array(xlist).astype(float)\n"
   ]
  },
  {
   "cell_type": "code",
   "execution_count": 8,
   "metadata": {},
   "outputs": [],
   "source": [
    "def rd_nicer_lc0(pathnam, fnams):\n",
    "    # band 0\n",
    "    \n",
    "    nfils=len(fnams)\n",
    "    xlist=list()\n",
    "    tlist=list()\n",
    "    \n",
    "    for i in range(nfils):\n",
    "        fnam=pathnam+fnams[i]\n",
    "    \n",
    "        fID=open(fnam,'r')\n",
    "    \n",
    "    \n",
    "        for j in range(16):\n",
    "            line=fID.readline() # skip first 10 lines\n",
    "        \n",
    "        while True:\n",
    "            line=fID.readline()\n",
    "            if not line: break\n",
    "            jnk=line.split()\n",
    "        \n",
    "            #print len(jnk)\n",
    "            if len(jnk)==14:\n",
    "                xlist.append(float(jnk[3]))\n",
    "                tlist.append(float(jnk[1]))\n",
    "            \n",
    "        fID.close()\n",
    "    return np.array(tlist).astype(float),np.array(xlist).astype(float)\n"
   ]
  },
  {
   "cell_type": "code",
   "execution_count": 9,
   "metadata": {},
   "outputs": [],
   "source": [
    "def rd_nicer_lc1(pathnam, fnams):\n",
    "    # band 1\n",
    "    \n",
    "    nfils=len(fnams)\n",
    "    xlist=list()\n",
    "    tlist=list()\n",
    "    \n",
    "    for i in range(nfils):\n",
    "        fnam=pathnam+fnams[i]\n",
    "    \n",
    "        fID=open(fnam,'r')\n",
    "    \n",
    "    \n",
    "        for j in range(16):\n",
    "            line=fID.readline() # skip first 10 lines\n",
    "        \n",
    "        while True:\n",
    "            line=fID.readline()\n",
    "            if not line: break\n",
    "            jnk=line.split()\n",
    "        \n",
    "            #print len(jnk)\n",
    "            if len(jnk)==14:\n",
    "                xlist.append(float(jnk[4]))\n",
    "                tlist.append(float(jnk[1]))\n",
    "            \n",
    "        fID.close()\n",
    "\n",
    "    return np.array(tlist).astype(float),np.array(xlist).astype(float)\n"
   ]
  },
  {
   "cell_type": "code",
   "execution_count": 10,
   "metadata": {},
   "outputs": [],
   "source": [
    "def rd_nicer_lc2(pathnam, fnams):\n",
    "    # band 2\n",
    "    \n",
    "    nfils=len(fnams)\n",
    "    xlist=list()\n",
    "    tlist=list()\n",
    "    \n",
    "    for i in range(nfils):\n",
    "        fnam=pathnam+fnams[i]\n",
    "    \n",
    "        fID=open(fnam,'r')\n",
    "    \n",
    "    \n",
    "        for j in range(16):\n",
    "            line=fID.readline() # skip first 10 lines\n",
    "        \n",
    "        while True:\n",
    "            line=fID.readline()\n",
    "            if not line: break\n",
    "            jnk=line.split()\n",
    "        \n",
    "            #print len(jnk)\n",
    "            if len(jnk)==14:\n",
    "                xlist.append(float(jnk[5]))\n",
    "                tlist.append(float(jnk[1]))\n",
    "            \n",
    "        fID.close()\n",
    "    \n",
    "    return np.array(tlist).astype(float),np.array(xlist).astype(float)\n"
   ]
  },
  {
   "cell_type": "code",
   "execution_count": 11,
   "metadata": {},
   "outputs": [],
   "source": [
    "def nicer_lc_2_1sts(t,cts):\n",
    "    # makes 1s time series from NICER lightcurve\n",
    "    \n",
    "    t0=np.min(t)\n",
    "    tf=np.max(t)\n",
    "    t_span=np.round(tf-t0).astype(int)\n",
    "    t2=t-t0\n",
    "    \n",
    "    yy=np.zeros(t_span)\n",
    "    \n",
    "    for i in range(t_span):\n",
    "        if i%1000 == 0:\n",
    "            print i, t_span\n",
    "        j=[k for k in range(len(t)) if t2[k]>=i and t2[k]<i+1]\n",
    "        if len(j)>0:\n",
    "            yy[i]=yy[i]+np.sum(cts[j])\n",
    "            \n",
    "    return yy"
   ]
  },
  {
   "cell_type": "code",
   "execution_count": 13,
   "metadata": {},
   "outputs": [],
   "source": [
    "def nicer_lc_2_ts(t,cts):\n",
    "    # makes 1/8s time series from NICER lightcurve\n",
    "    \n",
    "    t0=np.min(t)\n",
    "    tf=np.max(t)\n",
    "    t_span=8*np.round(tf-t0).astype(int)\n",
    "    t2=t-t0\n",
    "    \n",
    "    yy=np.zeros(t_span+20)\n",
    "    \n",
    "    tindex=(8*t2).astype(int)\n",
    "    yy[tindex]=cts[:]\n",
    "    \n",
    "    return yy"
   ]
  },
  {
   "cell_type": "code",
   "execution_count": 26,
   "metadata": {},
   "outputs": [],
   "source": [
    "pathnam='./delivery/'\n",
    "ni_filt='ni1200120113_0mpu7_silver_GTI'\n",
    "flist=get_filelist_nicer(pathnam, ni_filt)"
   ]
  },
  {
   "cell_type": "code",
   "execution_count": 27,
   "metadata": {},
   "outputs": [
    {
     "name": "stdout",
     "output_type": "stream",
     "text": [
      "['ni1200120113_0mpu7_silver_GTI7-v2-bands.lc', 'ni1200120113_0mpu7_silver_GTI20-v2-bands.lc.gz', 'ni1200120113_0mpu7_silver_GTI7-v2-bands.lc.gz', 'ni1200120113_0mpu7_silver_GTI24-v2-bands.lc', 'ni1200120113_0mpu7_silver_GTI11-v2-bands.lc.gz', 'ni1200120113_0mpu7_silver_GTI3-v2-bands.lc.gz', 'ni1200120113_0mpu7_silver_GTI2-v2-bands.lc.gz', 'ni1200120113_0mpu7_silver_GTI19-v2-bands.lc', 'ni1200120113_0mpu7_silver_GTI0-v2-bands.lc', 'ni1200120113_0mpu7_silver_GTI8-v2-bands.lc.gz', 'ni1200120113_0mpu7_silver_GTI24-v2-bands.lc.gz', 'ni1200120113_0mpu7_silver_GTI0-v2-bands.lc.gz', 'ni1200120113_0mpu7_silver_GTI3-v2-bands.lc', 'ni1200120113_0mpu7_silver_GTI11-v2-bands.lc', 'ni1200120113_0mpu7_silver_GTI2-v2-bands.lc', 'ni1200120113_0mpu7_silver_GTI19-v2-bands.lc.gz', 'ni1200120113_0mpu7_silver_GTI26-v2-bands.lc.gz', 'ni1200120113_0mpu7_silver_GTI27-v2-bands.lc.gz', 'ni1200120113_0mpu7_silver_GTI12-v2-bands.lc', 'ni1200120113_0mpu7_silver_GTI20-v2-bands.lc', 'ni1200120113_0mpu7_silver_GTI15-v2-bands.lc.gz', 'ni1200120113_0mpu7_silver_GTI15-v2-bands.lc', 'ni1200120113_0mpu7_silver_GTI27-v2-bands.lc', 'ni1200120113_0mpu7_silver_GTI12-v2-bands.lc.gz', 'ni1200120113_0mpu7_silver_GTI26-v2-bands.lc', 'ni1200120113_0mpu7_silver_GTI8-v2-bands.lc']\n"
     ]
    }
   ],
   "source": [
    "print flist"
   ]
  },
  {
   "cell_type": "code",
   "execution_count": 36,
   "metadata": {},
   "outputs": [],
   "source": [
    "flistD = glob.glob('delivery/ni1200120113_0mpu7_silver_GTI*.lc')"
   ]
  },
  {
   "cell_type": "code",
   "execution_count": 42,
   "metadata": {},
   "outputs": [],
   "source": [
    "flist = [fnam.split('/')[1] for fnam in flistD]"
   ]
  },
  {
   "cell_type": "code",
   "execution_count": 43,
   "metadata": {},
   "outputs": [
    {
     "name": "stdout",
     "output_type": "stream",
     "text": [
      "['ni1200120113_0mpu7_silver_GTI7-v2-bands.lc', 'ni1200120113_0mpu7_silver_GTI24-v2-bands.lc', 'ni1200120113_0mpu7_silver_GTI19-v2-bands.lc', 'ni1200120113_0mpu7_silver_GTI0-v2-bands.lc', 'ni1200120113_0mpu7_silver_GTI3-v2-bands.lc', 'ni1200120113_0mpu7_silver_GTI11-v2-bands.lc', 'ni1200120113_0mpu7_silver_GTI2-v2-bands.lc', 'ni1200120113_0mpu7_silver_GTI12-v2-bands.lc', 'ni1200120113_0mpu7_silver_GTI20-v2-bands.lc', 'ni1200120113_0mpu7_silver_GTI15-v2-bands.lc', 'ni1200120113_0mpu7_silver_GTI27-v2-bands.lc', 'ni1200120113_0mpu7_silver_GTI26-v2-bands.lc', 'ni1200120113_0mpu7_silver_GTI8-v2-bands.lc']\n"
     ]
    }
   ],
   "source": [
    "print flist"
   ]
  },
  {
   "cell_type": "code",
   "execution_count": 44,
   "metadata": {},
   "outputs": [],
   "source": [
    "t,cts=rd_nicer_lc(pathnam,flist)\n",
    "t0,cts0=rd_nicer_lc0(pathnam,flist)\n",
    "t1,cts1=rd_nicer_lc1(pathnam,flist)\n",
    "t2,cts2=rd_nicer_lc2(pathnam,flist)\n",
    "t34,cts34=rd_nicer_lc34(pathnam,flist)"
   ]
  },
  {
   "cell_type": "code",
   "execution_count": 45,
   "metadata": {},
   "outputs": [],
   "source": [
    "fast_ts34=nicer_lc_2_ts(t34,cts34)\n",
    "fast_ts0=nicer_lc_2_ts(t0,cts0)\n",
    "fast_ts1=nicer_lc_2_ts(t1,cts1)\n",
    "fast_ts2=nicer_lc_2_ts(t2,cts2)\n",
    "\n",
    "fast_ts=nicer_lc_2_ts(t,cts)\n",
    "#print len(fast_ts34),len(fast_ts2),len(fast_ts1),len(fast_ts0),len(fast_ts)"
   ]
  },
  {
   "cell_type": "code",
   "execution_count": 77,
   "metadata": {},
   "outputs": [
    {
     "data": {
      "text/plain": [
       "[<matplotlib.lines.Line2D at 0x7f661d227290>]"
      ]
     },
     "execution_count": 77,
     "metadata": {},
     "output_type": "execute_result"
    },
    {
     "data": {
      "image/png": "[encoded data removed]",
      "text/plain": [
       "<matplotlib.figure.Figure at 0x7f661d43f410>"
      ]
     },
     "metadata": {},
     "output_type": "display_data"
    }
   ],
   "source": [
    "plt.plot(fast_ts)"
   ]
  },
  {
   "cell_type": "code",
   "execution_count": 47,
   "metadata": {},
   "outputs": [],
   "source": [
    "def pds_chunk128(t,flx,t1,t2):\n",
    "    # takes time series - not lightcurve - time and flx\n",
    "    # extracts time from t1 to t2\n",
    "    # calculates power spectrum in 128s segments and returns\n",
    "    \n",
    "    t_span=t2-t1\n",
    "    n_chunk=np.round(t_span/128.0).astype(int)\n",
    "    \n",
    "    print t_span, n_chunk\n",
    "    \n",
    "    dt2=128.0/2.0 # half-width of chunk\n",
    "    \n",
    "    for i in range(n_chunk):\n",
    "        ty=t-((i*dt2*2)+dt2+t1)\n",
    "        y=flx[np.abs(ty)<=dt2]\n",
    "        if i==0:\n",
    "            flen=len(y)/2\n",
    "            print i, flen\n",
    "            p=np.zeros([n_chunk,flen])\n",
    "            f=np.arange(flen)/(dt2*2)\n",
    "        af=np.fft.fft(y)\n",
    "        p[i,:]=np.abs(af[:flen])**2\n",
    "        \n",
    "    ptot=np.sum(p,axis=0)\n",
    "    \n",
    "    return f,p,ptot"
   ]
  },
  {
   "cell_type": "code",
   "execution_count": 48,
   "metadata": {},
   "outputs": [],
   "source": [
    "def pds_chunk256(t,flx,t1,t2):\n",
    "    # takes time series - not lightcurve - time and flx\n",
    "    # extracts time from t1 to t2\n",
    "    # calculates power spectrum in 256s segments and returns\n",
    "    \n",
    "    t_span=t2-t1\n",
    "    n_chunk=np.round(t_span/256.0).astype(int)\n",
    "    \n",
    "    print t_span, n_chunk\n",
    "    \n",
    "    dt2=256.0/2.0 # half-width of chunk\n",
    "    \n",
    "    for i in range(n_chunk):\n",
    "        ty=t-((i*dt2*2)+dt2+t1)\n",
    "        y=flx[np.abs(ty)<=dt2]\n",
    "        if i==0:\n",
    "            flen=len(y)/2\n",
    "            print i, flen\n",
    "            p=np.zeros([n_chunk,flen])\n",
    "            f=np.arange(flen)/(dt2*2)\n",
    "        af=np.fft.fft(y)\n",
    "        p[i,:]=np.abs(af[:flen])**2\n",
    "        \n",
    "    ptot=np.sum(p,axis=0)\n",
    "    \n",
    "    return f,p,ptot"
   ]
  },
  {
   "cell_type": "code",
   "execution_count": 49,
   "metadata": {},
   "outputs": [],
   "source": [
    "def pds_chunk64(t,flx,t1,t2):\n",
    "    # takes time series - not lightcurve - time and flx\n",
    "    # extracts time from t1 to t2\n",
    "    # calculates power spectrum in 64s segments and returns\n",
    "    \n",
    "    t_span=t2-t1\n",
    "    n_chunk=np.round(t_span/64.0).astype(int)\n",
    "    \n",
    "    print t_span, n_chunk\n",
    "    \n",
    "    dt2=64.0/2.0 # half-width of chunk\n",
    "    \n",
    "    for i in range(n_chunk):\n",
    "        ty=t-((i*dt2*2)+dt2+t1)\n",
    "        y=flx[np.abs(ty)<=dt2]\n",
    "        if i==0:\n",
    "            flen=len(y)/2\n",
    "            print i, flen\n",
    "            p=np.zeros([n_chunk,flen])\n",
    "            f=np.arange(flen)/(dt2*2)\n",
    "        af=np.fft.fft(y)\n",
    "        p[i,:]=np.abs(af[:flen])**2\n",
    "        \n",
    "    ptot=np.sum(p,axis=0)\n",
    "    \n",
    "    return f,p,ptot"
   ]
  },
  {
   "cell_type": "code",
   "execution_count": 50,
   "metadata": {},
   "outputs": [],
   "source": [
    "def pds_chunk128_wgaps(t,flx,t1,t2):\n",
    "    # takes time series - not lightcurve - time and flx\n",
    "    # extracts time from t1 to t2\n",
    "    # calculates power spectrum in 128s segments and returns\n",
    "    # skips gaps\n",
    "    \n",
    "    t_span=t2-t1\n",
    "    n_chunk=np.round(t_span/128.0).astype(int)\n",
    "    \n",
    "    print t_span, n_chunk\n",
    "    \n",
    "    dt2=128.0/2.0 # half-width of chunk\n",
    "    \n",
    "    for i in range(n_chunk):\n",
    "        ty=t-((i*dt2*2)+dt2+t1)\n",
    "        y=flx[np.abs(ty)<=dt2]\n",
    "        if np.sum(y) > 3e5:\n",
    "            af=np.fft.fft(y)\n",
    "            if i==0:\n",
    "                flen=len(y)/2\n",
    "                print i, flen\n",
    "                p=np.zeros([n_chunk,flen])\n",
    "                f=np.arange(flen)/(dt2*2)\n",
    "            p[i,:]=np.abs(af[:flen])**2\n",
    "        \n",
    "    ptot=np.sum(p,axis=0)\n",
    "    \n",
    "    return f,p,ptot"
   ]
  },
  {
   "cell_type": "code",
   "execution_count": 51,
   "metadata": {},
   "outputs": [],
   "source": [
    "def p_2_logp_wgaps(f,p,df,n_avg):\n",
    "    # takes output of pds_chunk128-style program\n",
    "    # averages over n_avg pieces, and logbins the 2D array\n",
    "    \n",
    "    nt=p.shape[0] # number of power spectra\n",
    "    \n",
    "    for i in range(nt):\n",
    "        i1=i-n_avg/2\n",
    "        i2=i1+n_avg/2\n",
    "        if i1<0:\n",
    "            i1=0\n",
    "        if i2>(nt-1):\n",
    "            i2=nt-1\n",
    "        if p[i,0]>1.0:\n",
    "            pmean=np.mean(p[i1:i2+1,:],axis=0)/(np.mean(p[i1:i2+1,0])**0.5)\n",
    "            dumf,dump=logbin(f,pmean,df)\n",
    "            if i==0:\n",
    "                nf=len(dump[dump>0])\n",
    "                p2=np.zeros([nt,nf])\n",
    "                f2=dumf[dump>0]\n",
    "            p2[i,:]=dump[dump>0]\n",
    "        \n",
    "    return f2,p2"
   ]
  },
  {
   "cell_type": "code",
   "execution_count": 52,
   "metadata": {},
   "outputs": [
    {
     "name": "stdout",
     "output_type": "stream",
     "text": [
      "55307.375 432\n",
      "0 512\n",
      "55307.375 432\n",
      "0 512\n",
      "55307.375 432\n",
      "0 512\n",
      "55307.375 432\n",
      "0 512\n",
      "55307.375 432\n",
      "0 512\n"
     ]
    }
   ],
   "source": [
    "tf=np.arange(len(fast_ts34))/8.0\n",
    "\n",
    "f,p0,ptot0=pds_chunk128_wgaps(tf,fast_ts0,0,np.max(tf))\n",
    "f,p1,ptot1=pds_chunk128_wgaps(tf,fast_ts1,0,np.max(tf))\n",
    "f,p2,ptot2=pds_chunk128_wgaps(tf,fast_ts2,0,np.max(tf))\n",
    "f,p34,ptot34=pds_chunk128_wgaps(tf,fast_ts34,0,np.max(tf))\n",
    "f,p,ptot=pds_chunk128_wgaps(tf,fast_ts,0,np.max(tf))\n"
   ]
  },
  {
   "cell_type": "code",
   "execution_count": 78,
   "metadata": {},
   "outputs": [
    {
     "name": "stdout",
     "output_type": "stream",
     "text": [
      "133695597.98\n"
     ]
    }
   ],
   "source": [
    "print t[0]"
   ]
  },
  {
   "cell_type": "code",
   "execution_count": 53,
   "metadata": {},
   "outputs": [
    {
     "data": {
      "text/plain": [
       "<matplotlib.text.Text at 0x7f661dea7ad0>"
      ]
     },
     "execution_count": 53,
     "metadata": {},
     "output_type": "execute_result"
    },
    {
     "data": {
      "image/png": "[encoded data removed]",
      "text/plain": [
       "<matplotlib.figure.Figure at 0x7f661df8ed90>"
      ]
     },
     "metadata": {},
     "output_type": "display_data"
    }
   ],
   "source": [
    "from matplotlib import ticker\n",
    "fig,ax=plt.subplots(figsize=(9,6), facecolor='w')\n",
    "ax.xaxis.set_major_formatter(matplotlib.ticker.ScalarFormatter())\n",
    "ax.set_xscale('log')\n",
    "\n",
    "\n",
    "ax.step((f[1:]),np.log10(ptot[1:]/(ptot[0]**0.5)),c='k')\n",
    "ax.step((f[1:]),np.log10(ptot0[1:]/(ptot0[0]**0.5)),c='r')\n",
    "\n",
    "ax.step((f[1:]),np.log10(ptot1[1:]/(ptot1[0]**0.5)),c='g')\n",
    "ax.step((f[1:]),np.log10(ptot2[1:]/(ptot2[0]**0.5)),c='y')\n",
    "ax.step((f[1:]),np.log10(ptot34[1:]/(ptot34[0]**0.5)),c='b')\n",
    "\n",
    "#ax.set_xlim(-2.0,0.65)\n",
    "ax.set_ylim(2.0,6)\n",
    "ax.set_title('NICER MAXI J1820+070 - 28 March 2018 - 128s chunks')\n",
    "ax.set_xlabel('Frequency (Hz)')\n",
    "ax.set_ylabel('Log Power')\n",
    "ax.plot([0.09,0.09],[2,6],c='r',linestyle='--')\n",
    "ax.plot([0.045,0.045],[2,6],c='r',linestyle='--')\n",
    "ax.text(0.5,5.7,'Total',color='k')\n",
    "ax.text(0.5,5.55,'Band0',color='r')\n",
    "ax.text(0.5,5.4,'Band1',color='g')\n",
    "ax.text(0.5,5.25,'Band2',color='y')\n",
    "ax.text(0.5,5.1,'Bands3+4',color='b')"
   ]
  },
  {
   "cell_type": "code",
   "execution_count": 54,
   "metadata": {},
   "outputs": [
    {
     "data": {
      "text/plain": [
       "<matplotlib.text.Text at 0x7f661dc73bd0>"
      ]
     },
     "execution_count": 54,
     "metadata": {},
     "output_type": "execute_result"
    },
    {
     "data": {
      "image/png": "[encoded data removed]",
      "text/plain": [
       "<matplotlib.figure.Figure at 0x7f661dfca2d0>"
      ]
     },
     "metadata": {},
     "output_type": "display_data"
    }
   ],
   "source": [
    "from matplotlib import ticker\n",
    "fig,ax=plt.subplots(figsize=(9,6), facecolor='w')\n",
    "ax.xaxis.set_major_formatter(matplotlib.ticker.ScalarFormatter())\n",
    "ax.set_xscale('log')\n",
    "\n",
    "ax.step((f[1:]),np.log10(f[1:]*ptot[1:]/(ptot[0]**0.5)),c='k')\n",
    "ax.step((f[1:]),np.log10(f[1:]*ptot0[1:]/(ptot0[0]**0.5)),c='r')\n",
    "\n",
    "ax.step((f[1:]),np.log10(f[1:]*ptot1[1:]/(ptot1[0]**0.5)),c='g')\n",
    "ax.step((f[1:]),np.log10(f[1:]*ptot2[1:]/(ptot2[0]**0.5)),c='y')\n",
    "ax.step((f[1:]),np.log10(f[1:]*ptot34[1:]/(ptot34[0]**0.5)),c='b')\n",
    "\n",
    "#ax.set_xlim(-2.0,0.65)\n",
    "ax.set_ylim(2.0,4.5)\n",
    "ax.set_title('NICER MAXI J1820+070 - 28 March 2018 - 128s chunks')\n",
    "ax.set_xlabel('Frequency (Hz)')\n",
    "ax.set_ylabel('Log (f x Power)')\n",
    "ax.plot([0.09,0.09],[2,4.5],c='r',linestyle='--')\n",
    "ax.plot([0.045,0.045],[2,4.5],c='r',linestyle='--')\n",
    "ax.text(0.5,4.4,'Total',color='k')\n",
    "ax.text(0.5,4.3,'Band0',color='r')\n",
    "ax.text(0.5,4.2,'Band1',color='g')\n",
    "ax.text(0.5,4.1,'Band2',color='y')\n",
    "ax.text(0.5,4.0,'Bands3+4',color='b')"
   ]
  },
  {
   "cell_type": "code",
   "execution_count": 55,
   "metadata": {},
   "outputs": [
    {
     "name": "stdout",
     "output_type": "stream",
     "text": [
      "[-2.10720997 -1.80720997 -1.65720997 -1.50720997 -1.45720997 -1.35720997\n",
      " -1.30720997 -1.20720997 -1.15720997 -1.10720997 -1.05720997 -1.00720997\n",
      " -0.95720997 -0.90720997 -0.85720997 -0.80720997 -0.75720997 -0.70720997\n",
      " -0.65720997 -0.60720997 -0.55720997 -0.50720997 -0.45720997 -0.40720997\n",
      " -0.35720997 -0.30720997 -0.25720997 -0.20720997 -0.15720997 -0.10720997\n",
      " -0.05720997 -0.00720997  0.04279003  0.09279003  0.14279003  0.19279003\n",
      "  0.24279003  0.29279003  0.34279003  0.39279003  0.44279003  0.49279003\n",
      "  0.54279003]\n"
     ]
    }
   ],
   "source": [
    "dumf,dump=logbin(f,ptot2/(ptot2[0]**0.5),0.05)\n",
    "print dumf[dump>0]"
   ]
  },
  {
   "cell_type": "code",
   "execution_count": 56,
   "metadata": {},
   "outputs": [
    {
     "data": {
      "text/plain": [
       "<matplotlib.text.Text at 0x7f661db19e90>"
      ]
     },
     "execution_count": 56,
     "metadata": {},
     "output_type": "execute_result"
    },
    {
     "data": {
      "image/png": "[encoded data removed]",
      "text/plain": [
       "<matplotlib.figure.Figure at 0x7f661df8e890>"
      ]
     },
     "metadata": {},
     "output_type": "display_data"
    }
   ],
   "source": [
    "from matplotlib import ticker\n",
    "fig,ax=plt.subplots(figsize=(9,6), facecolor='w')\n",
    "ax.xaxis.set_major_formatter(matplotlib.ticker.ScalarFormatter())\n",
    "ax.set_xscale('log')\n",
    "\n",
    "#ax.step(10.**dumf[dump>0],(10.**dumf[dump>0.0])*dump[dump>0],c='y')\n",
    "ax.plot(10.**dumf[dump>0],(10.**dumf[dump>0.0])*dump[dump>0],c='y',drawstyle='steps-mid')\n",
    "\n",
    "#ax.set_xlim(-2.0,0.65)\n",
    "ax.set_ylim(500.,2.5e3)\n",
    "ax.set_title('NICER MAXI J1820+070 - 28 March 2018 - 128s chunks')\n",
    "ax.set_xlabel('Frequency (Hz)')\n",
    "ax.set_ylabel('f x Power')\n",
    "ax.plot([0.045,0.045],[500,2500],c='r',linestyle='--')\n",
    "ax.plot([0.09,0.09],[500,2500],c='r',linestyle='--')\n",
    "ax.text(0.5,2000,'Band2',color='y',size=20)\n"
   ]
  },
  {
   "cell_type": "code",
   "execution_count": 57,
   "metadata": {},
   "outputs": [],
   "source": [
    "dumf,dump=logbin(f,ptot34/(ptot34[0]**0.5),0.05)\n"
   ]
  },
  {
   "cell_type": "code",
   "execution_count": 58,
   "metadata": {},
   "outputs": [
    {
     "data": {
      "text/plain": [
       "<matplotlib.text.Text at 0x7f661de90190>"
      ]
     },
     "execution_count": 58,
     "metadata": {},
     "output_type": "execute_result"
    },
    {
     "data": {
      "image/png": "[encoded data removed]",
      "text/plain": [
       "<matplotlib.figure.Figure at 0x7f661daacd90>"
      ]
     },
     "metadata": {},
     "output_type": "display_data"
    }
   ],
   "source": [
    "from matplotlib import ticker\n",
    "fig,ax=plt.subplots(figsize=(9,6), facecolor='w')\n",
    "ax.xaxis.set_major_formatter(matplotlib.ticker.ScalarFormatter())\n",
    "ax.set_xscale('log')\n",
    "\n",
    "ax.plot(10.**dumf[dump>0],(10.**dumf[dump>0.0])*dump[dump>0],c='b',drawstyle='steps-mid')\n",
    "\n",
    "#ax.set_xlim(-2.0,0.65)\n",
    "ax.set_ylim(0.,600)\n",
    "ax.set_title('NICER MAXI J1820+070 - 28 March 2018 - 128s chunks')\n",
    "ax.set_xlabel('Frequency (Hz)')\n",
    "ax.set_ylabel('f x Power')\n",
    "ax.plot([0.045,0.045],[0,600],c='r',linestyle='--')\n",
    "ax.plot([0.09,0.09],[0,600],c='r',linestyle='--')\n",
    "ax.text(0.5,400,'Bands3+4',color='b',size=20)"
   ]
  },
  {
   "cell_type": "code",
   "execution_count": 59,
   "metadata": {},
   "outputs": [],
   "source": [
    "dumf,dump=logbin(f,ptot/(ptot[0]**0.5),0.05)\n"
   ]
  },
  {
   "cell_type": "code",
   "execution_count": 60,
   "metadata": {},
   "outputs": [
    {
     "data": {
      "text/plain": [
       "<matplotlib.text.Text at 0x7f661d817190>"
      ]
     },
     "execution_count": 60,
     "metadata": {},
     "output_type": "execute_result"
    },
    {
     "data": {
      "image/png": "[encoded data removed]",
      "text/plain": [
       "<matplotlib.figure.Figure at 0x7f6621edabd0>"
      ]
     },
     "metadata": {},
     "output_type": "display_data"
    }
   ],
   "source": [
    "from matplotlib import ticker\n",
    "fig,ax=plt.subplots(figsize=(9,6), facecolor='w')\n",
    "ax.xaxis.set_major_formatter(matplotlib.ticker.ScalarFormatter())\n",
    "ax.set_xscale('log')\n",
    "\n",
    "ax.plot(10.**dumf[dump>0],(10.**dumf[dump>0.0])*dump[dump>0],c='k',drawstyle='steps-mid')\n",
    "\n",
    "#ax.set_xlim(-2.0,0.65)\n",
    "ax.set_ylim(0.,1.6e4)\n",
    "ax.set_title('NICER MAXI J1820+070 - 28 March 2018 - 128s chunks')\n",
    "ax.set_xlabel('Frequency (Hz)')\n",
    "ax.set_ylabel('f x Power')\n",
    "ax.plot([0.045,0.045],[0,16000],c='r',linestyle='--')\n",
    "ax.plot([0.09,0.09],[0,16000],c='r',linestyle='--')\n",
    "ax.text(0.5,14000,'Total',color='k',size=20)"
   ]
  },
  {
   "cell_type": "code",
   "execution_count": null,
   "metadata": {},
   "outputs": [],
   "source": []
  }
 ],
 "metadata": {
  "kernelspec": {
   "display_name": "Python 2",
   "language": "python",
   "name": "python2"
  },
  "language_info": {
   "codemirror_mode": {
    "name": "ipython",
    "version": 2
   },
   "file_extension": ".py",
   "mimetype": "text/x-python",
   "name": "python",
   "nbconvert_exporter": "python",
   "pygments_lexer": "ipython2",
   "version": "2.7.14"
  }
 },
 "nbformat": 4,
 "nbformat_minor": 2
}
