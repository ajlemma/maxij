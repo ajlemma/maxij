{
 "cells": [
  {
   "cell_type": "code",
   "execution_count": 12,
   "metadata": {},
   "outputs": [],
   "source": [
    "import pandas as pd\n",
    "import numpy as np\n",
    "from maxijdefs import *\n",
    "from maxij_nicerdefs import *\n",
    "import glob\n",
    "from scipy.signal import fftconvolve\n",
    "import matplotlib\n",
    "import matplotlib.pyplot as plt\n",
    "from pylab import subplot, subplots_adjust, legend\n",
    "%matplotlib inline"
   ]
  },
  {
   "cell_type": "code",
   "execution_count": 2,
   "metadata": {},
   "outputs": [],
   "source": [
    "# info for reading x-ray data (directory and filter for night)\n",
    "# for example, for 3/28 the NICER date is 113\n",
    "# filename_filter = 'ni1200120113_0mpu7_silver_GTI*.lc' # for 3/28\n",
    "xpathnam = 'delivery/'\n",
    "filename_filter = '*_0mpu7_silver_GTI*.lc'\n",
    "\n",
    "# info to read rho optical data (directory and night)\n",
    "opathnam = './maxij_data_copies/'\n",
    "onights = ['2018-03-28'] # put other nights here\n",
    "night = onights[0] # to pick out night. add functionality to loop over all nights later?\n"
   ]
  },
  {
   "cell_type": "code",
   "execution_count": 3,
   "metadata": {},
   "outputs": [],
   "source": [
    "## time calibration stuff:\n",
    "\n",
    "# computer clock is ~51.5s fast (per lab tests + SSE calculation)\n",
    "# (((POSSIBLY 8.5 s slow, but this seems to work?)))\n",
    "clocklag = -51.5\n",
    "# clocklag = 8.5\n",
    "# clocklag -=60\n",
    "\n",
    "# do not change this! it is absolutely calibrated to the 28th.\n",
    "# unix epoch timestamp - nicer absolute time\n",
    "# both at 2018-03-28 08:05:21.000 UTC\n",
    "dt = 1522224321-133689923\n",
    "# print dt"
   ]
  },
  {
   "cell_type": "code",
   "execution_count": 4,
   "metadata": {},
   "outputs": [],
   "source": [
    "## read in nicer xray data for night and make pandas df\n",
    "# get filenames for night's xray data\n",
    "ftest = xpathnam + filename_filter\n",
    "flistD = glob.glob(ftest)\n",
    "\n",
    "# all files\n",
    "flist = [fnam.split('/')[1] for fnam in flistD]\n",
    "flist = natsorted(flist)\n",
    "# print len(flist)\n",
    "ndat_t = []\n",
    "ndat_cts = []\n",
    "ndat_cts1 = []\n",
    "ndat_cts2 = []\n",
    "ndat_cts34 = []\n",
    "ndat_fnam = []\n",
    "\n",
    "for fileX in flist:\n",
    "    t,cts=rd_nicer_lc(xpathnam,[fileX])\n",
    "    t1,cts1=rd_nicer_lc1(xpathnam,[fileX])\n",
    "    t2,cts2=rd_nicer_lc2(xpathnam,[fileX])\n",
    "    t34,cts34=rd_nicer_lc34(xpathnam,[fileX])\n",
    "    filename_column = [fileX for x in np.arange(len(t))]\n",
    "\n",
    "    ndat_t.append(t)\n",
    "    ndat_cts.append(cts)\n",
    "    ndat_cts1.append(cts1)\n",
    "    ndat_cts2.append(cts2)\n",
    "    ndat_cts34.append(cts34)\n",
    "    ndat_fnam.append(filename_column)\n",
    "\n",
    "ndict = {'filename': [item for sublist in ndat_fnam for item in sublist],\n",
    "          'time': [item for sublist in ndat_t for item in sublist],\n",
    "          'cts': [item for sublist in ndat_cts for item in sublist],\n",
    "          'cts1': [item for sublist in ndat_cts1 for item in sublist],\n",
    "          'cts2': [item for sublist in ndat_cts2 for item in sublist],\n",
    "          'cts34': [item for sublist in ndat_cts34 for item in sublist]\n",
    "          }\n",
    "\n",
    "nicerdata = pd.DataFrame(ndict, index=ndict['time'])\n",
    "# print nicerdata"
   ]
  },
  {
   "cell_type": "code",
   "execution_count": 19,
   "metadata": {},
   "outputs": [
    {
     "name": "stdout",
     "output_type": "stream",
     "text": [
      "11729\n"
     ]
    }
   ],
   "source": [
    "#read in optical data as pandas dataframe:\n",
    "rhodata = pd.read_pickle(opathnam+'data_'+night+'.pkl')\n",
    "# print data\n",
    "print len(rhodata)"
   ]
  },
  {
   "cell_type": "code",
   "execution_count": 6,
   "metadata": {},
   "outputs": [],
   "source": [
    "# fix/calibrate time for both optical and x-ray data so that they're all using unix epoch time\n",
    "rhodata['fixed_time'] = rhodata['os_time'] + clocklag\n",
    "nicerdata['unix_time'] = nicerdata['time'] + dt"
   ]
  },
  {
   "cell_type": "code",
   "execution_count": 7,
   "metadata": {},
   "outputs": [],
   "source": [
    "## clean up data\n",
    "# test = np.abs(rhodata['gauss_params_3_sigma_x'] - rhodata['gauss_params_4_sigma_y'])\n",
    "# n, bins, patches = plt.hist(test, 50, normed=1, facecolor='green', alpha=0.75)\n",
    "\n",
    "shiftgood = rhodata['shift_corr_amplitude'] < 10.\n",
    "gaussgood = rhodata['gauss_sigma_avg'] < 3.\n",
    "gaussnonzero = rhodata['gauss_sigma_avg'] > 0.\n",
    "gaussgood2 = np.abs(rhodata['gauss_params_3_sigma_x'] - rhodata['gauss_params_4_sigma_y']) < 1.\n",
    "rhoclean = rhodata[shiftgood & gaussgood & gaussgood2 & gaussnonzero]\n",
    "# plt.plot(rhodata['fixed_time'],rhodata['phot_maxij']-np.median(rhodata['phot_maxij']),'.-m')\n",
    "# plt.plot(rhodata['fixed_time'],rhodata['phot_tyc']-np.median(rhodata['phot_tyc']),'.-c')\n",
    "# plt.plot(rhoclean['fixed_time'],rhoclean['phot_maxij']-np.median(rhoclean['phot_maxij']),'.-r')\n",
    "# plt.plot(rhoclean['fixed_time'],rhoclean['phot_tyc']-np.median(rhoclean['phot_tyc']),'.-g')\n",
    "# plt.show()"
   ]
  },
  {
   "cell_type": "code",
   "execution_count": 8,
   "metadata": {},
   "outputs": [],
   "source": [
    "## pull out just datasets we are going to use\n",
    "xt = nicerdata['unix_time']\n",
    "xlc = nicerdata['cts']\n",
    "ot = rhoclean['fixed_time']\n",
    "olc = rhoclean['phot_maxij']\n",
    "tlc = rhoclean['phot_tyc']"
   ]
  },
  {
   "cell_type": "code",
   "execution_count": 9,
   "metadata": {},
   "outputs": [],
   "source": [
    "## define timeframe based on optical data\n",
    "## make 1-s timeseries' for whole night (with zeroes where no data)\n",
    "optical_time_seconds = np.arange(np.floor(np.min(rhoclean['fixed_time'])),np.ceil(np.max(rhoclean['fixed_time'])))\n",
    "xts = make_1s_ts(optical_time_seconds, np.array(xt),np.array(xlc))\n",
    "ots = make_1s_ts(optical_time_seconds, np.array(ot),np.array(olc))\n",
    "tts = make_1s_ts(optical_time_seconds, np.array(ot),np.array(tlc))\n",
    "\n",
    "# plt.plot(optical_time_seconds,xts,'b.')\n",
    "# plt.plot(optical_time_seconds,ots,'r.')\n",
    "# plt.show()"
   ]
  },
  {
   "cell_type": "code",
   "execution_count": 10,
   "metadata": {},
   "outputs": [],
   "source": [
    "## split into 64-s chunks\n",
    "ntot = 64\n",
    "xts_c = chunks(xts,ntot)\n",
    "ots_c = chunks(ots,ntot)\n",
    "tts_c = chunks(tts,ntot)\n",
    "time_c = chunks(optical_time_seconds,ntot)\n",
    "tc = np.arange(ntot)\n",
    "ctot = len(ots_c)\n",
    "\n",
    "datadict = {'chunkID':np.arange(ctot),\n",
    "            'chunk_length':ntot,\n",
    "            \n",
    "           }\n"
   ]
  },
  {
   "cell_type": "code",
   "execution_count": 22,
   "metadata": {},
   "outputs": [],
   "source": [
    "# plot of time series over chunk of data\n",
    "# print ctot\n",
    "# fig2,ax1=plt.subplots(figsize=[6,100],facecolor='w')\n",
    "# subplots_adjust(hspace=0.000)\n",
    "# for c,v in enumerate(xrange(ctot)):\n",
    "#     v = v+1\n",
    "#     ax1 = subplot(ctot,1,v)\n",
    "#     ax1.plot(tc, xts_c[c],'.-b')\n",
    "#     ax1.plot(tc, ots_c[c],'.-r')\n",
    "#     ax1.plot(tc, tts_c[c],'.-k',alpha=.3)\n",
    "#     ax1.plot([0,ntot],[0,0],'k')\n",
    "#     ax1.set_xlim(0,ntot)\n",
    "# ax1.legend(['MaxiJ@Nicer','MaxiJ@RHO',\"Tycho@RHO\"])"
   ]
  },
  {
   "cell_type": "code",
   "execution_count": null,
   "metadata": {},
   "outputs": [],
   "source": []
  },
  {
   "cell_type": "code",
   "execution_count": null,
   "metadata": {},
   "outputs": [],
   "source": []
  }
 ],
 "metadata": {
  "kernelspec": {
   "display_name": "Python 2",
   "language": "python",
   "name": "python2"
  },
  "language_info": {
   "codemirror_mode": {
    "name": "ipython",
    "version": 2
   },
   "file_extension": ".py",
   "mimetype": "text/x-python",
   "name": "python",
   "nbconvert_exporter": "python",
   "pygments_lexer": "ipython2",
   "version": "2.7.14"
  }
 },
 "nbformat": 4,
 "nbformat_minor": 2
}
